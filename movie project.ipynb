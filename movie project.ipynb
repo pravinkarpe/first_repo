{
 "cells": [
  {
   "cell_type": "code",
   "execution_count": 12,
   "id": "41ffcb00",
   "metadata": {},
   "outputs": [],
   "source": [
    "from bs4 import BeautifulSoup\n",
    "import requests\n",
    "import datetime\n",
    "import pandas as pd"
   ]
  },
  {
   "cell_type": "code",
   "execution_count": 13,
   "id": "6d3c8fd7",
   "metadata": {},
   "outputs": [],
   "source": [
    "curr_date = datetime.datetime.today()\n",
    "today = curr_date.strftime(\"%d %b %Y\")\n",
    "# print(today, type(today))"
   ]
  },
  {
   "cell_type": "code",
   "execution_count": 14,
   "id": "9ca29fc0",
   "metadata": {},
   "outputs": [
    {
     "name": "stdout",
     "output_type": "stream",
     "text": [
      "Enter DOTMovies URL link:   https://dotmovies.me/\n"
     ]
    }
   ],
   "source": [
    "url = input(\"Enter DOTMovies URL link:   \")"
   ]
  },
  {
   "cell_type": "code",
   "execution_count": 15,
   "id": "901d06f2",
   "metadata": {},
   "outputs": [
    {
     "data": {
      "text/plain": [
       "<Response [200]>"
      ]
     },
     "execution_count": 15,
     "metadata": {},
     "output_type": "execute_result"
    }
   ],
   "source": [
    "page = requests.get(url)\n",
    "page"
   ]
  },
  {
   "cell_type": "code",
   "execution_count": 16,
   "id": "6021a5d6",
   "metadata": {
    "scrolled": true
   },
   "outputs": [],
   "source": [
    "soup = BeautifulSoup(page.text,'lxml')"
   ]
  },
  {
   "cell_type": "code",
   "execution_count": 17,
   "id": "818b064a",
   "metadata": {},
   "outputs": [
    {
     "data": {
      "text/plain": [
       "34"
      ]
     },
     "execution_count": 17,
     "metadata": {},
     "output_type": "execute_result"
    }
   ],
   "source": [
    "articles = soup.find_all('article')\n",
    "len(articles)"
   ]
  },
  {
   "cell_type": "code",
   "execution_count": 18,
   "id": "756923eb",
   "metadata": {},
   "outputs": [
    {
     "data": {
      "text/html": [
       "<div>\n",
       "<style scoped>\n",
       "    .dataframe tbody tr th:only-of-type {\n",
       "        vertical-align: middle;\n",
       "    }\n",
       "\n",
       "    .dataframe tbody tr th {\n",
       "        vertical-align: top;\n",
       "    }\n",
       "\n",
       "    .dataframe thead th {\n",
       "        text-align: right;\n",
       "    }\n",
       "</style>\n",
       "<table border=\"1\" class=\"dataframe\">\n",
       "  <thead>\n",
       "    <tr style=\"text-align: right;\">\n",
       "      <th></th>\n",
       "      <th>full_name</th>\n",
       "      <th>title</th>\n",
       "      <th>link</th>\n",
       "      <th>image_link</th>\n",
       "    </tr>\n",
       "  </thead>\n",
       "  <tbody>\n",
       "    <tr>\n",
       "      <th>0</th>\n",
       "      <td>The Warriorr (2022) WEB-DL [ORG Hindi Dubbed] ...</td>\n",
       "      <td>The Warriorr</td>\n",
       "      <td>https://dotmovies.me/download-the-warriorr-202...</td>\n",
       "      <td>https://dotmovies.me/wp-content/uploads/2022/1...</td>\n",
       "    </tr>\n",
       "    <tr>\n",
       "      <th>1</th>\n",
       "      <td>Bigg Boss (2022) Season 16 [S16E50] Hindi Full...</td>\n",
       "      <td>Bigg Boss</td>\n",
       "      <td>https://dotmovies.me/download-bigg-boss-2022-s...</td>\n",
       "      <td>https://dotmovies.me/wp-content/uploads/2022/1...</td>\n",
       "    </tr>\n",
       "    <tr>\n",
       "      <th>2</th>\n",
       "      <td>Singham (2011) Hindi Full Movie 480p [400MB] |...</td>\n",
       "      <td>Singham</td>\n",
       "      <td>https://dotmovies.me/singham-2011-hindi-full-m...</td>\n",
       "      <td>https://dotmovies.me/wp-content/uploads/2022/0...</td>\n",
       "    </tr>\n",
       "    <tr>\n",
       "      <th>3</th>\n",
       "      <td>Singham Returns (2014) BluRay Hindi Full Movie...</td>\n",
       "      <td>Singham Returns</td>\n",
       "      <td>https://dotmovies.me/download-singham-returns-...</td>\n",
       "      <td>https://dotmovies.me/wp-content/uploads/2022/1...</td>\n",
       "    </tr>\n",
       "    <tr>\n",
       "      <th>4</th>\n",
       "      <td>Simmba (2018) Hindi Full Movie 480p [450MB] | ...</td>\n",
       "      <td>Simmba</td>\n",
       "      <td>https://dotmovies.me/download-simmba-2018-blur...</td>\n",
       "      <td>https://dotmovies.me/wp-content/uploads/2021/1...</td>\n",
       "    </tr>\n",
       "    <tr>\n",
       "      <th>5</th>\n",
       "      <td>Crime Patrol 2.0 (2022) Season 1 [S01E185 Adde...</td>\n",
       "      <td>Crime Patrol 2.0</td>\n",
       "      <td>https://dotmovies.me/download-crime-patrol-2-0...</td>\n",
       "      <td>https://dotmovies.me/wp-content/uploads/2022/0...</td>\n",
       "    </tr>\n",
       "    <tr>\n",
       "      <th>6</th>\n",
       "      <td>Aashiqana (Season 1 – 2) [S02E36 Added] Hindi ...</td>\n",
       "      <td>Aashiqana</td>\n",
       "      <td>https://dotmovies.me/download-aashiqana-2022-s...</td>\n",
       "      <td>https://dotmovies.me/wp-content/uploads/2022/1...</td>\n",
       "    </tr>\n",
       "    <tr>\n",
       "      <th>7</th>\n",
       "      <td>Jhalak Dikhhla Jaa (Season 10) Hindi [19th Nov...</td>\n",
       "      <td>Jhalak Dikhhla Jaa</td>\n",
       "      <td>https://dotmovies.me/download-jhalak-dikhhla-j...</td>\n",
       "      <td>https://dotmovies.me/wp-content/uploads/2022/1...</td>\n",
       "    </tr>\n",
       "    <tr>\n",
       "      <th>8</th>\n",
       "      <td>The Kapil Sharma Show (Season 4) [19th Novembe...</td>\n",
       "      <td>The Kapil Sharma Show</td>\n",
       "      <td>https://dotmovies.me/download-the-kapil-sharma...</td>\n",
       "      <td>https://dotmovies.me/wp-content/uploads/2022/0...</td>\n",
       "    </tr>\n",
       "  </tbody>\n",
       "</table>\n",
       "</div>"
      ],
      "text/plain": [
       "                                           full_name                  title  \\\n",
       "0  The Warriorr (2022) WEB-DL [ORG Hindi Dubbed] ...           The Warriorr   \n",
       "1  Bigg Boss (2022) Season 16 [S16E50] Hindi Full...              Bigg Boss   \n",
       "2  Singham (2011) Hindi Full Movie 480p [400MB] |...                Singham   \n",
       "3  Singham Returns (2014) BluRay Hindi Full Movie...        Singham Returns   \n",
       "4  Simmba (2018) Hindi Full Movie 480p [450MB] | ...                 Simmba   \n",
       "5  Crime Patrol 2.0 (2022) Season 1 [S01E185 Adde...       Crime Patrol 2.0   \n",
       "6  Aashiqana (Season 1 – 2) [S02E36 Added] Hindi ...              Aashiqana   \n",
       "7  Jhalak Dikhhla Jaa (Season 10) Hindi [19th Nov...     Jhalak Dikhhla Jaa   \n",
       "8  The Kapil Sharma Show (Season 4) [19th Novembe...  The Kapil Sharma Show   \n",
       "\n",
       "                                                link  \\\n",
       "0  https://dotmovies.me/download-the-warriorr-202...   \n",
       "1  https://dotmovies.me/download-bigg-boss-2022-s...   \n",
       "2  https://dotmovies.me/singham-2011-hindi-full-m...   \n",
       "3  https://dotmovies.me/download-singham-returns-...   \n",
       "4  https://dotmovies.me/download-simmba-2018-blur...   \n",
       "5  https://dotmovies.me/download-crime-patrol-2-0...   \n",
       "6  https://dotmovies.me/download-aashiqana-2022-s...   \n",
       "7  https://dotmovies.me/download-jhalak-dikhhla-j...   \n",
       "8  https://dotmovies.me/download-the-kapil-sharma...   \n",
       "\n",
       "                                          image_link  \n",
       "0  https://dotmovies.me/wp-content/uploads/2022/1...  \n",
       "1  https://dotmovies.me/wp-content/uploads/2022/1...  \n",
       "2  https://dotmovies.me/wp-content/uploads/2022/0...  \n",
       "3  https://dotmovies.me/wp-content/uploads/2022/1...  \n",
       "4  https://dotmovies.me/wp-content/uploads/2021/1...  \n",
       "5  https://dotmovies.me/wp-content/uploads/2022/0...  \n",
       "6  https://dotmovies.me/wp-content/uploads/2022/1...  \n",
       "7  https://dotmovies.me/wp-content/uploads/2022/1...  \n",
       "8  https://dotmovies.me/wp-content/uploads/2022/0...  "
      ]
     },
     "execution_count": 18,
     "metadata": {},
     "output_type": "execute_result"
    }
   ],
   "source": [
    "df = pd.DataFrame(columns = ['full_name','title','link','image_link'])\n",
    "\n",
    "for article in articles:\n",
    "    date = article.find('div', class_ = 'date-time').text.strip()\n",
    "    if date == today:\n",
    "        full_name = article.find('h3', class_ = 'entry-title h5 h6-mobile post-title').text[10:].strip()\n",
    "        link_box = article.find('h3', class_ = 'entry-title h5 h6-mobile post-title')\n",
    "        link = link_box.find('a').get('href').strip()\n",
    "        \n",
    "        image_link = article.find('img').get('src')\n",
    "                    \n",
    "        movie_list = full_name.split('(')\n",
    "        title = movie_list[0].strip()\n",
    "        \n",
    "        # print(full_name)\n",
    "        # print(title)\n",
    "        # print(date)\n",
    "        # print(link)\n",
    "        # print(image_link)\n",
    "        # print('*'*100)\n",
    "        \n",
    "        \n",
    "        new_df = pd.DataFrame([[full_name, title, link,image_link]],columns = ['full_name','title','link','image_link'])\n",
    "        df = pd.concat([df,new_df], ignore_index=True)\n",
    "        \n",
    "df"
   ]
  },
  {
   "cell_type": "code",
   "execution_count": 19,
   "id": "4620fa1d",
   "metadata": {},
   "outputs": [],
   "source": [
    "# def shorten_url(url):\n",
    "#     token = '13b6f1559097889d3fb4ef4e7a412224b5961b83'\n",
    "#     response = requests.get(f\"https://shrinkearn.com/api?api=13b6f1559097889d3fb4ef4e7a412224b5961b83&url={url}&format=text\")\n",
    "#     short_url = response.text\n",
    "#     return short_url"
   ]
  },
  {
   "cell_type": "code",
   "execution_count": 20,
   "id": "839a25b6",
   "metadata": {},
   "outputs": [],
   "source": [
    "# df['shortened_url'] = df['link'].apply(shorten_url)\n",
    "# df"
   ]
  },
  {
   "cell_type": "code",
   "execution_count": 21,
   "id": "3aee912d",
   "metadata": {},
   "outputs": [],
   "source": [
    "def send_to_telegram(i):\n",
    "\n",
    "    apiToken = '5800902618:AAEiZQ26G_4YUbS9eHafJohhZID3fsCEYLc'\n",
    "    chatID = '@test_channel_bot24'\n",
    "    apiURL = f'https://api.telegram.org/bot{apiToken}/sendPhoto'\n",
    "    description = f\"\\n{df['title'][i]} \\n\\n{df['full_name'][i]}\\n\\nLink to Download:\\n{df['link'][i]}\"\n",
    "    image_link = df['image_link'][i]\n",
    "\n",
    "    try:\n",
    "        response = requests.post(apiURL, json={'chat_id': chatID,'caption' : description, 'photo':image_link})\n",
    "    except Exception as e:\n",
    "        print(e)"
   ]
  },
  {
   "cell_type": "code",
   "execution_count": 22,
   "id": "9ac768dc",
   "metadata": {},
   "outputs": [],
   "source": [
    "for i in range(len(df)):\n",
    "    send_to_telegram(i)"
   ]
  }
 ],
 "metadata": {
  "kernelspec": {
   "display_name": "Python 3 (ipykernel)",
   "language": "python",
   "name": "python3"
  },
  "language_info": {
   "codemirror_mode": {
    "name": "ipython",
    "version": 3
   },
   "file_extension": ".py",
   "mimetype": "text/x-python",
   "name": "python",
   "nbconvert_exporter": "python",
   "pygments_lexer": "ipython3",
   "version": "3.9.12"
  }
 },
 "nbformat": 4,
 "nbformat_minor": 5
}
